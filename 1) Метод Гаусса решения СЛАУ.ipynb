{
  "nbformat": 4,
  "nbformat_minor": 0,
  "metadata": {
    "colab": {
      "provenance": [],
      "authorship_tag": "ABX9TyOBpqgCNHfTzDapXS0JXUGR",
      "include_colab_link": true
    },
    "kernelspec": {
      "name": "python3",
      "display_name": "Python 3"
    },
    "language_info": {
      "name": "python"
    }
  },
  "cells": [
    {
      "cell_type": "markdown",
      "metadata": {
        "id": "view-in-github",
        "colab_type": "text"
      },
      "source": [
        "<a href=\"https://colab.research.google.com/github/Batman511/Numerical_methods_7sem/blob/main/1)%20%D0%9C%D0%B5%D1%82%D0%BE%D0%B4%20%D0%93%D0%B0%D1%83%D1%81%D1%81%D0%B0%20%D1%80%D0%B5%D1%88%D0%B5%D0%BD%D0%B8%D1%8F%20%D0%A1%D0%9B%D0%90%D0%A3.ipynb\" target=\"_parent\"><img src=\"https://colab.research.google.com/assets/colab-badge.svg\" alt=\"Open In Colab\"/></a>"
      ]
    },
    {
      "cell_type": "code",
      "execution_count": null,
      "metadata": {
        "id": "rFJqopc7vip0"
      },
      "outputs": [],
      "source": [
        "import numpy as np"
      ]
    },
    {
      "cell_type": "markdown",
      "source": [
        "# СЛАУ"
      ],
      "metadata": {
        "id": "pNu3tWNdOh3K"
      }
    },
    {
      "cell_type": "markdown",
      "source": [
        "Самостоятельный ввод"
      ],
      "metadata": {
        "id": "Srs_gyJKq4nB"
      }
    },
    {
      "cell_type": "code",
      "source": [
        "# матрица коэффициентов А и ответов b\n",
        "A = np.array([[3.8, 6.7, -1.2], \n",
        "              [6.4, 1.3, -2.7], \n",
        "              [2.4, -4.5, 3.5]])\n",
        "\n",
        "b = np.array([5.2,3.8, -0.6])\n",
        "\n",
        "# для приведения к диагональному виду\n",
        "matrix=np.column_stack((A,b))\n",
        "matrix"
      ],
      "metadata": {
        "colab": {
          "base_uri": "https://localhost:8080/"
        },
        "id": "dvcuP2BVz8oJ",
        "outputId": "bdb107c9-3fc3-48a2-a638-bfb36aab87bf"
      },
      "execution_count": null,
      "outputs": [
        {
          "output_type": "execute_result",
          "data": {
            "text/plain": [
              "array([[ 3.8,  6.7, -1.2,  5.2],\n",
              "       [ 6.4,  1.3, -2.7,  3.8],\n",
              "       [ 2.4, -4.5,  3.5, -0.6]])"
            ]
          },
          "metadata": {},
          "execution_count": 2
        }
      ]
    },
    {
      "cell_type": "markdown",
      "source": [
        "Автоматическое заполнение"
      ],
      "metadata": {
        "id": "0_n8EDdbq8Ru"
      }
    },
    {
      "cell_type": "code",
      "source": [
        "row = 10\n",
        "matrix = np.round(np.random.rand(row, row+1), 2)*10\n",
        "print(matrix)"
      ],
      "metadata": {
        "colab": {
          "base_uri": "https://localhost:8080/"
        },
        "id": "3lbZyJKbrAYo",
        "outputId": "262e0ee5-c1ab-43fb-8b2a-881d0c909bca"
      },
      "execution_count": null,
      "outputs": [
        {
          "output_type": "stream",
          "name": "stdout",
          "text": [
            "[[8.4 0.7 8.4 6.5 0.8 3.1 9.  3.7 3.5 6.5 5.3]\n",
            " [0.2 0.7 3.  8.9 4.8 4.3 2.3 9.5 8.6 1.3 0.7]\n",
            " [8.4 7.8 8.  3.5 7.8 6.8 0.4 5.6 1.  7.9 3.1]\n",
            " [8.4 2.6 0.9 2.1 2.3 9.2 9.7 6.4 2.4 7.6 2.2]\n",
            " [8.4 8.8 3.1 3.6 0.6 0.4 3.9 2.1 1.4 4.7 0.2]\n",
            " [3.  1.1 0.2 8.1 9.7 6.5 9.1 4.8 9.9 9.9 7.4]\n",
            " [2.2 6.  4.5 8.7 7.6 9.9 6.3 5.4 0.5 6.9 5.1]\n",
            " [0.2 3.2 6.6 8.3 8.2 4.3 4.6 9.2 8.2 1.  7.5]\n",
            " [7.5 3.2 4.7 8.8 0.6 0.1 5.3 8.3 3.4 2.3 6.9]\n",
            " [9.4 0.9 7.  3.3 0.8 1.4 2.1 8.1 5.6 6.2 2.4]]\n"
          ]
        }
      ]
    },
    {
      "cell_type": "markdown",
      "source": [
        "# Метод Гаусса решения СЛАУ"
      ],
      "metadata": {
        "id": "YiRL68BmfghN"
      }
    },
    {
      "cell_type": "markdown",
      "source": [
        "Приведение к диагональному виду"
      ],
      "metadata": {
        "id": "gKESPcjGxMFO"
      }
    },
    {
      "cell_type": "code",
      "source": [
        "def Triangle_matrix(A):\n",
        "    for num in range(A.shape[0]):\n",
        "        row = A[num]\n",
        "        divider = row[num] # диаг. элемент\n",
        "        row /= divider\n",
        "        \n",
        "        for new_row in A[num+1:]:\n",
        "            new_row -= new_row[num]*row\n",
        "\n",
        "\n",
        "    for num in range(len(A)-1,0,-1):\n",
        "        row = A[num]\n",
        "        for new_row in A[:num]:\n",
        "            new_row[-1] -= new_row[num]*row[-1]\n",
        "            new_row[num] = 0\n",
        "    return A\n",
        "\n",
        "matrix_2 = matrix.copy()\n",
        "print('result matrix:\\n',Triangle_matrix(matrix_2))\n",
        "ans_1 = Triangle_matrix(matrix_2)[:,-1]  \n",
        "print('\\nanswers:\\n',ans_1)  "
      ],
      "metadata": {
        "colab": {
          "base_uri": "https://localhost:8080/"
        },
        "id": "A5tUsWwsqzI_",
        "outputId": "8821125e-cc97-4b4a-e0a1-5d7d7590c979"
      },
      "execution_count": null,
      "outputs": [
        {
          "output_type": "stream",
          "name": "stdout",
          "text": [
            "result matrix:\n",
            " [[ 1.          0.          0.          0.53344344]\n",
            " [-0.          1.          0.          0.49024295]\n",
            " [ 0.          0.          1.          0.09309401]]\n",
            "\n",
            "answers:\n",
            " [0.53344344 0.49024295 0.09309401]\n"
          ]
        }
      ]
    },
    {
      "cell_type": "markdown",
      "source": [
        "Невязка для ручного ввода"
      ],
      "metadata": {
        "id": "-G4vlR7D0WTu"
      }
    },
    {
      "cell_type": "code",
      "source": [
        "# r = b - Ax\n",
        "def discrep(A,b,ans):\n",
        "  return b - np.matmul(A, ans.T)\n",
        "\n",
        "print('r:\\n',discrep(A,b,ans_1))"
      ],
      "metadata": {
        "id": "lstnd8mK0WDr",
        "outputId": "c6038687-97dd-4a39-9a71-42bfbafc5fc2",
        "colab": {
          "base_uri": "https://localhost:8080/"
        }
      },
      "execution_count": null,
      "outputs": [
        {
          "output_type": "stream",
          "name": "stdout",
          "text": [
            "r:\n",
            " [0.00000000e+00 0.00000000e+00 2.22044605e-16]\n"
          ]
        }
      ]
    },
    {
      "cell_type": "markdown",
      "source": [
        "Невязка для автоматического ввода"
      ],
      "metadata": {
        "id": "Iq3tXaAW2w5R"
      }
    },
    {
      "cell_type": "code",
      "source": [
        "def discrep_auto(A,ans):\n",
        "  return A[:,-1] - np.matmul(A[:,:-1], ans.T)\n",
        "\n",
        "print('r:\\n',discrep_auto(matrix,ans_1))"
      ],
      "metadata": {
        "id": "zeGmzMAn2su1",
        "outputId": "133787f4-56ab-49ab-87c2-e0242c101c8e",
        "colab": {
          "base_uri": "https://localhost:8080/"
        }
      },
      "execution_count": null,
      "outputs": [
        {
          "output_type": "stream",
          "name": "stdout",
          "text": [
            "r:\n",
            " [0.00000000e+00 0.00000000e+00 2.22044605e-16]\n"
          ]
        }
      ]
    },
    {
      "cell_type": "code",
      "source": [
        "# # пример проблемной марицы\n",
        "# withZero = np.array([[1,0,0,7],\n",
        "#                      [0,0,1,4],\n",
        "#                      [0,1,3,2]], dtype=float)\n"
      ],
      "metadata": {
        "id": "X37IN-pY165t"
      },
      "execution_count": null,
      "outputs": []
    },
    {
      "cell_type": "markdown",
      "source": [
        "# Метод Гаусса с выбором главного элемента"
      ],
      "metadata": {
        "id": "cdo9NB294axT"
      }
    },
    {
      "cell_type": "code",
      "source": [
        "def Triangle_matrix_with_main_element(A):\n",
        "    for num in range(len(A)):\n",
        "        ele = num + np.argmax(abs(A[num:, num]))\n",
        "        if ele != num:\n",
        "            A[num], A[ele] = A[ele], np.copy(A[num])\n",
        "        row = A[num]\n",
        "        divider = row[num]\n",
        "        row /= divider\n",
        "\n",
        "        for new_row in A[num+1:]:\n",
        "            new_row -= new_row[num]*row\n",
        "\n",
        "    for num in range(len(A)-1,0,-1):\n",
        "        row = A[num]\n",
        "        for new_row in A[:num]:\n",
        "            new_row[-1] -= new_row[num]*row[-1]\n",
        "            new_row[num] = 0\n",
        "    return A\n",
        "\n",
        "\n",
        "matrix_2 = matrix.copy()\n",
        "print('result matrix:\\n',Triangle_matrix_with_main_element(matrix_2))\n",
        "ans_2 = Triangle_matrix_with_main_element(matrix_2)[:,-1]  \n",
        "print('\\nanswers:\\n',ans_2)   "
      ],
      "metadata": {
        "colab": {
          "base_uri": "https://localhost:8080/"
        },
        "id": "2J_aJacC4aiT",
        "outputId": "c0f8c141-fb49-4f51-acef-438f97e7b3f1"
      },
      "execution_count": null,
      "outputs": [
        {
          "output_type": "stream",
          "name": "stdout",
          "text": [
            "result matrix:\n",
            " [[1.         0.         0.         0.53344344]\n",
            " [0.         1.         0.         0.49024295]\n",
            " [0.         0.         1.         0.09309401]]\n",
            "\n",
            "answers:\n",
            " [0.53344344 0.49024295 0.09309401]\n"
          ]
        }
      ]
    },
    {
      "cell_type": "markdown",
      "source": [
        "# Сравнение двух методов"
      ],
      "metadata": {
        "id": "P4Eh1wewiYRn"
      }
    },
    {
      "cell_type": "code",
      "source": [
        "row = 200\n",
        "matrix = np.round(np.random.rand(row, row+1), 2)*10\n",
        "b = matrix[:,-1] \n",
        "A = matrix[:,:-1]\n",
        "\n",
        "matrix_2 = matrix.copy()\n",
        "ans_1 = Triangle_matrix(matrix_2)[:,-1]\n",
        "\n",
        "matrix_2 = matrix.copy()\n",
        "ans_2 = Triangle_matrix_with_main_element(matrix_2)[:,-1]  "
      ],
      "metadata": {
        "id": "v274HhHGkJIu"
      },
      "execution_count": null,
      "outputs": []
    },
    {
      "cell_type": "code",
      "source": [
        "answer = np.linalg.solve(A, b)\n",
        "print(\"Макс ошибка для метода Гаусса:                        \",max(abs(ans_1 - answer)),\"\\nМакс ошибка для метода Гаусса с выбором гл. элемента: \",max(abs(ans_2 - answer)))\n",
        "\n",
        "print('\\nМакс невязка для метода Гаусса:                        \\n',max(abs(discrep_auto(matrix,ans_1))))\n",
        "print('Макс невязка для метода Гаусса с выбором гл. элемента:\\n',max(abs(discrep_auto(matrix,ans_2))))"
      ],
      "metadata": {
        "colab": {
          "base_uri": "https://localhost:8080/"
        },
        "id": "ANCDu-FViYDY",
        "outputId": "87ea8f1f-53d3-4331-d692-2cf156c2780f"
      },
      "execution_count": null,
      "outputs": [
        {
          "output_type": "stream",
          "name": "stdout",
          "text": [
            "Макс ошибка для метода Гаусса:                         4.0592862404764674e-11 \n",
            "Макс ошибка для метода Гаусса с выбором гл. элемента:  1.652011860642233e-13\n",
            "\n",
            "Макс невязка для метода Гаусса:                        \n",
            " 1.263114057792336e-10\n",
            "Макс невязка для метода Гаусса с выбором гл. элемента:\n",
            " 6.110667527536862e-13\n"
          ]
        }
      ]
    }
  ]
}