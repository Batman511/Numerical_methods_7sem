{
  "nbformat": 4,
  "nbformat_minor": 0,
  "metadata": {
    "colab": {
      "provenance": [],
      "authorship_tag": "ABX9TyP0k9wKt2ywgmAD8eoRZ04A",
      "include_colab_link": true
    },
    "kernelspec": {
      "name": "python3",
      "display_name": "Python 3"
    },
    "language_info": {
      "name": "python"
    }
  },
  "cells": [
    {
      "cell_type": "markdown",
      "metadata": {
        "id": "view-in-github",
        "colab_type": "text"
      },
      "source": [
        "<a href=\"https://colab.research.google.com/github/Batman511/Numerical_methods_7sem/blob/main/2)%20%D0%98%D1%82%D0%B5%D1%80%D0%B0%D1%86%D0%B8%D0%BE%D0%BD%D0%BD%D1%8B%D0%B9%20%D0%BC%D0%B5%D1%82%D0%BE%D0%B4%20%D0%97%D0%B5%D0%B9%D0%B4%D0%B5%D0%BB%D1%8F%20%D1%80%D0%B5%D1%88%D0%B5%D0%BD%D0%B8%D1%8F%20%D0%A1%D0%9B%D0%90%D0%A3.ipynb\" target=\"_parent\"><img src=\"https://colab.research.google.com/assets/colab-badge.svg\" alt=\"Open In Colab\"/></a>"
      ]
    },
    {
      "cell_type": "code",
      "execution_count": null,
      "metadata": {
        "id": "3C9Rsl6XV72d"
      },
      "outputs": [],
      "source": [
        "import numpy as np\n",
        "import matplotlib.pyplot as plt"
      ]
    },
    {
      "cell_type": "code",
      "source": [
        "# матрица коэффициентов А и ответов b\n",
        "A = np.array([[10,2,-2],\n",
        "              [7,8,5],\n",
        "              [3,4,8]])\n",
        "b = np.array([1,2,3])"
      ],
      "metadata": {
        "id": "QwQNWbgFWe89"
      },
      "execution_count": null,
      "outputs": []
    },
    {
      "cell_type": "markdown",
      "source": [
        "# Итерационный метод Зейделя для решения СЛАУ"
      ],
      "metadata": {
        "id": "WRY5-VcPWfNF"
      }
    },
    {
      "cell_type": "code",
      "source": [
        "def Seidel(A,b,precision = 1e-5):\n",
        "  X = np.zeros(A.shape[0])\n",
        "  X_new = X.copy()\n",
        "  n = A.shape[0]\n",
        "  iter=0\n",
        "\n",
        "  exit = False\n",
        "  while not exit:\n",
        "      for i in range(n):\n",
        "          SUM1 = 0\n",
        "          SUM2 = 0\n",
        "\n",
        "          for j in range(i):\n",
        "            SUM1 += A[i][j]*X_new[j]\n",
        "          for j in range(i + 1, n):\n",
        "            SUM2 += A[i][j]*X[j]\n",
        "\n",
        "          X_new[i] = (b[i] - SUM1 - SUM2)/A[i][i]\n",
        "\n",
        "      iter+=1\n",
        "      exit = max(abs(X-X_new)) <= precision\n",
        "      X = X_new.copy()\n",
        "  \n",
        "  return iter, X\n",
        "\n",
        "seidel = Seidel(A, b, 1e-8)\n",
        "print(f\"Iteratios: {seidel[0]}\")\n",
        "print(f\"X: {seidel[1]}\")      "
      ],
      "metadata": {
        "colab": {
          "base_uri": "https://localhost:8080/"
        },
        "id": "jkSde0cDo2Nu",
        "outputId": "01d0f9d7-d6e3-45cf-9c6a-dc83db0921fa"
      },
      "execution_count": null,
      "outputs": [
        {
          "output_type": "stream",
          "name": "stdout",
          "text": [
            "Iteratios: 20\n",
            "X: [ 0.21142857 -0.17428571  0.38285714]\n"
          ]
        }
      ]
    },
    {
      "cell_type": "markdown",
      "source": [
        "Невязка и число обусловленности"
      ],
      "metadata": {
        "id": "rStFsVtZXEjS"
      }
    },
    {
      "cell_type": "code",
      "source": [
        "# невязка\n",
        "def discrep(A,b,ans):\n",
        "  return b - np.matmul(A, ans.T)\n",
        "\n",
        "# число обусловленности       np.linalg.cond(A)  \n",
        "def obu(A):\n",
        "  print(\"Число обусловленности: \",np.linalg.norm(A)*np.linalg.norm(np.linalg.inv(A)))"
      ],
      "metadata": {
        "id": "Fx4cUwhmXFN7"
      },
      "execution_count": null,
      "outputs": []
    },
    {
      "cell_type": "code",
      "source": [
        "print('Невязка r:\\n',discrep(A,b,seidel[1]))\n",
        "obu(A)"
      ],
      "metadata": {
        "colab": {
          "base_uri": "https://localhost:8080/"
        },
        "id": "UXVNEgTYJnil",
        "outputId": "bc62aaa8-1dfe-4efd-a106-fd3ae94ee5f8"
      },
      "execution_count": null,
      "outputs": [
        {
          "output_type": "stream",
          "name": "stdout",
          "text": [
            "Невязка r:\n",
            " [ 1.58775928e-08 -7.93879629e-09  0.00000000e+00]\n",
            "Число обусловленности:  7.736905989199706\n"
          ]
        }
      ]
    },
    {
      "cell_type": "markdown",
      "source": [
        "# Генерация рандомной положительно определенной симметричной матрицы"
      ],
      "metadata": {
        "id": "TXY4bR5FvjBJ"
      }
    },
    {
      "cell_type": "markdown",
      "source": [
        "маленькая обусловленность"
      ],
      "metadata": {
        "id": "1eyaFsVNj6G7"
      }
    },
    {
      "cell_type": "code",
      "source": [
        "def create_matrix(row = 20):  \n",
        "  r = np.round(np.random.rand(row*(row+1)//2),3)*10\n",
        "  matrix = np.zeros((row,row))\n",
        "\n",
        "  for i in range(row):\n",
        "    t = i*(i+1)//2\n",
        "    matrix[i,0:i+1] = r[t:t+i+1]\n",
        "    matrix[0:i,i] = r[t:t+i]\n",
        "    matrix[i,i]+=row*2    # row*(row-1)\n",
        "\n",
        "  matrix_A = (matrix.transpose()+matrix)/2 \n",
        "  return matrix\n",
        "\n",
        "def create_b(row = 20):\n",
        "  b = (np.round(np.random.rand(1, row), 2)*10)[0]\n",
        "  return b\n",
        "\n",
        "b = create_b(50)\n",
        "matrix_A = create_matrix(50)"
      ],
      "metadata": {
        "id": "SWv0yP-st0Ap"
      },
      "execution_count": null,
      "outputs": []
    },
    {
      "cell_type": "markdown",
      "source": [
        "Рандомная матрица с разной обусловленностью"
      ],
      "metadata": {
        "id": "gbIyCpWVjyra"
      }
    },
    {
      "cell_type": "code",
      "source": [
        "import sklearn.datasets as sk\n",
        "row = 50\n",
        "b = (np.round(np.random.rand(1, row), 2)*10)[0]\n",
        "matrix_A = np.array(sk.make_spd_matrix(n_dim=row))*10"
      ],
      "metadata": {
        "id": "rP2FoiXhZE3E"
      },
      "execution_count": null,
      "outputs": []
    },
    {
      "cell_type": "markdown",
      "source": [
        "# Применение метода и графики"
      ],
      "metadata": {
        "id": "8RkPOtPCcpQm"
      }
    },
    {
      "cell_type": "code",
      "source": [
        "seidel = Seidel(matrix_A, b, 1e-5)\n",
        "print(f\"Iteratios: {seidel[0]}\")\n",
        "print(f\"X: {seidel[1]}\")  "
      ],
      "metadata": {
        "colab": {
          "base_uri": "https://localhost:8080/"
        },
        "id": "4oQW32Ftw9Vj",
        "outputId": "c0364bee-4987-4ff4-f54d-e5c9aa052cd3"
      },
      "execution_count": null,
      "outputs": [
        {
          "output_type": "stream",
          "name": "stdout",
          "text": [
            "Iteratios: 11\n",
            "X: [ 0.03836897  0.02445295  0.03584088  0.00522725  0.01845724  0.00125296\n",
            "  0.03969341  0.00727125 -0.0212209   0.03066805  0.03227226 -0.01272534\n",
            "  0.05220433  0.02147596  0.04518591  0.01764375 -0.01149394 -0.00203356\n",
            " -0.01387677  0.05788097  0.01812611 -0.02347891  0.02954431  0.00870708\n",
            "  0.01269518 -0.01977909  0.00969036  0.04588883  0.05981605  0.03678065\n",
            "  0.01739251  0.01192824  0.03341136 -0.01570098 -0.03622634 -0.01832614\n",
            " -0.03138017  0.01672873  0.04647992  0.04513715 -0.01784464 -0.01613523\n",
            "  0.0073735  -0.01673175  0.02521798  0.0438892  -0.02449383  0.05248002\n",
            "  0.06210115 -0.03290129]\n"
          ]
        }
      ]
    },
    {
      "cell_type": "code",
      "source": [
        "answer = np.linalg.solve(matrix_A, b)\n",
        "print(\"Макс ошибка:           \",max(abs(seidel[1] - answer)))\n",
        "\n",
        "print('\\nМакс невязка:          ',max(abs(discrep(matrix_A,b,seidel[1]))),\"\\n\")\n",
        "\n",
        "obu(A)"
      ],
      "metadata": {
        "colab": {
          "base_uri": "https://localhost:8080/"
        },
        "id": "CEGrUQVQc7rG",
        "outputId": "0b05ccfa-c90d-44e7-90fe-c3d06e2ab722"
      },
      "execution_count": null,
      "outputs": [
        {
          "output_type": "stream",
          "name": "stdout",
          "text": [
            "Макс ошибка:            5.046384312687446e-06\n",
            "\n",
            "Макс невязка:           0.0004922817712307292 \n",
            "\n",
            "Число обусловленности:  7.736905989199706\n"
          ]
        }
      ]
    },
    {
      "cell_type": "markdown",
      "source": [
        "Зафисимость числа итераций от точности"
      ],
      "metadata": {
        "id": "qCOsIynQdgDm"
      }
    },
    {
      "cell_type": "code",
      "source": [
        "row = 50\n",
        "axis_x = [1e-2,1e-3,1e-4,1e-5,1e-6,1e-7,1e-8,1e-9] \n",
        "iter_y = []\n",
        "\n",
        "for eps in axis_x:\n",
        "  iter_y.append( Seidel(matrix_test,b_test,eps)[0] )\n",
        " \n",
        "\n",
        "fig = plt.figure(figsize=(10,6))\n",
        "ax = fig.add_subplot()\n",
        "ax.set_title(\"Зависимость числа итераций от точности\", fontsize=15)\n",
        "ax.plot( axis_x, iter_y)\n",
        "plt.grid(True)\n",
        "plt.xscale('log')"
      ],
      "metadata": {
        "colab": {
          "base_uri": "https://localhost:8080/",
          "height": 396
        },
        "id": "kvfqD8v1dJbr",
        "outputId": "a0f2e5a1-5d2e-457a-f0c2-55317f46e259"
      },
      "execution_count": null,
      "outputs": [
        {
          "output_type": "display_data",
          "data": {
            "text/plain": [
              "<Figure size 720x432 with 1 Axes>"
            ],
            "image/png": "[encoded data removed]"
          },
          "metadata": {
            "needs_background": "light"
          }
        }
      ]
    }
  ]
}